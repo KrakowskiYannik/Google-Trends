{
 "cells": [
  {
   "cell_type": "markdown",
   "metadata": {},
   "source": [
    "# Statistische Analyse - Vanillekipferl \n",
    "`Yannik`, `Krakowski`, `11126298 `\n",
    "## Hintergrund und Fragestellung\n",
    "### Fragestellung: \n",
    "Ist in den Monaten November und Dezember das Suchinteresse (in Prozent) nach Vanillekipferl in Deutschland (2015) im Vergleich zu den restlichen Monaten anders bzw. größer?\n",
    "### Nullhypothese: \n",
    "Die zwei Stichproben haben identische Erwartungswerte. ($H_0: \\mu_{Dez\\&Nov} = \\mu_{rest}$)\n",
    "## Beschreibung des Datensets\n",
    "| Eigenschaft       | Beschreibung          |\n",
    "| ------------- |:-------------:|\n",
    "| Hintergund    | Google Suchinteresse des Suchbegriffes \"Vanillekipferl\" 2015 in Deutschland|\n",
    "| Quelle     | [Data Set](https://trends.google.de/trends/explore?date=2015-01-01%202015-12-31&geo=DE&q=%2Fm%2F0988ty)    |\n",
    "| Größe |   769 Bytes   |\n",
    "| Hintergund Hoster |   Google Trends ist ein Online-Dienst des Unternehmens Google, der Informationen darüber bereitstellt, welche Suchbegriffe von Nutzern der Suchmaschine Google wie oft eingegeben wurden.    |"
   ]
  },
  {
   "cell_type": "markdown",
   "metadata": {},
   "source": [
    "## Visualisierungen und Analyse\n",
    "### Grafik 1"
   ]
  },
  {
   "cell_type": "markdown",
   "metadata": {},
   "source": [
    "Visualisierung der \"Raw\"-Daten der Suchinteressen in % nach dem Thema \"Vanillekipferl\" bei Google. Auf der X-Achse, welche sind die einzelnen Tage grob in Monatsabschnitte unterteilt. Die Y-Achse beschreibt das Suchinteresse in Prozent, wobei die Werte das Suchinteresse relativ zum höchsten Punkt im Diagramm im festgelegten Zeitraum von Januar 2015 - Dezember 2015 angeben. Der Wert 100 steht für die höchste Beliebtheit dieses Suchbegriffs. Der Wert 50 bedeutet, dass der Begriff halb so beliebt ist und der Wert 0 bedeutet, dass für diesen Begriff nicht genügend Daten vorlagen."
   ]
  },
  {
   "cell_type": "code",
   "execution_count": 1,
   "metadata": {
    "scrolled": true
   },
   "outputs": [
    {
     "data": {
      "text/plain": [
       "Text(0, 0.5, 'Suchinteresse in %')"
      ]
     },
     "execution_count": 1,
     "metadata": {},
     "output_type": "execute_result"
    },
    {
     "data": {
      "image/png": "[encoded data removed]",
      "text/plain": [
       "<Figure size 432x288 with 1 Axes>"
      ]
     },
     "metadata": {
      "needs_background": "light"
     },
     "output_type": "display_data"
    }
   ],
   "source": [
    "import pandas as pd\n",
    "import seaborn as sns\n",
    "from datetime import date\n",
    "import calendar\n",
    "data = pd.read_csv('/Users/Student/multiTimeline_2015_deutschland.csv',skiprows=3,names = ['Date','Search interest'])\n",
    "data['Search interest'] = data['Search interest'].apply(lambda x: int(x) if x.isdigit() else 0)\n",
    "bymonth = {}\n",
    "for dateStr, value in list(zip(data['Date'], data['Search interest'])):\n",
    "    month = date.fromisoformat(dateStr).month\n",
    "    if month not in bymonth:\n",
    "        bymonth[month] = []\n",
    "    bymonth[month].append(value)\n",
    "bymonthavg = [(calendar.month_name[key], sum(bymonth[key])/len(bymonth[key])) for key in bymonth]\n",
    "ax1 = sns.barplot(x=\"Date\", y=\"Search interest\", data=data)\n",
    "ax1.set_xticklabels(ax1.get_xticklabels(5), rotation=0)\n",
    "ax1.axes.set_title(\"Google Suchinteresse Deutschland: Vanillekipferl 2015\",fontsize=15)\n",
    "ax1.set_xlabel(\"Januar  -  März  |  April  -  Juni  | Juli  -  September | Oktober  -  Dezember\",fontsize=9)\n",
    "ax1.set_ylabel(\"Suchinteresse in %\",fontsize=11)"
   ]
  },
  {
   "cell_type": "markdown",
   "metadata": {},
   "source": [
    "### Grafik 2"
   ]
  },
  {
   "cell_type": "markdown",
   "metadata": {},
   "source": [
    "Diese Grafik unterteilt das Jahr 2015 in seine Monate. Aus den jeweiligen Daten der zugehörigen Monate wird der Mittelwert visualisiert."
   ]
  },
  {
   "cell_type": "code",
   "execution_count": 2,
   "metadata": {},
   "outputs": [
    {
     "data": {
      "text/plain": [
       "Text(0, 0.5, 'Suchinteresse in %')"
      ]
     },
     "execution_count": 2,
     "metadata": {},
     "output_type": "execute_result"
    },
    {
     "data": {
      "image/png": "[encoded data removed]",
      "text/plain": [
       "<Figure size 432x288 with 1 Axes>"
      ]
     },
     "metadata": {
      "needs_background": "light"
     },
     "output_type": "display_data"
    }
   ],
   "source": [
    "df = pd.DataFrame(bymonthavg, columns=['Date', 'Search interest'])\n",
    "ax3 = sns.barplot(x=\"Date\", y=\"Search interest\", data=df)\n",
    "ax3.set_xticklabels(ax3.get_xticklabels(), rotation=50)\n",
    "ax3.set_ylabel(\"Suchinteresse in %\",fontsize=11)"
   ]
  },
  {
   "cell_type": "markdown",
   "metadata": {},
   "source": [
    "## t-Test"
   ]
  },
  {
   "cell_type": "markdown",
   "metadata": {},
   "source": [
    "Durchführung des t-Test mit den gegebenen Daten für die jeweiligen Zeiträume Januar bis Oktober und November bis Dezember.\n",
    "Der t-Wert und p-Wert sind durch\n",
    "\n",
    "\\begin{align*}\n",
    "t_{teststatistik}&=-11.610265450617874\\\\\n",
    "p&= 8.366555999265518 \\cdot 10^{-16}\n",
    "\\end{align*}\n",
    "\n",
    "gegeben."
   ]
  },
  {
   "cell_type": "code",
   "execution_count": 3,
   "metadata": {},
   "outputs": [
    {
     "data": {
      "text/plain": [
       "Ttest_indResult(statistic=-11.610265450617874, pvalue=8.366555999265518e-16)"
      ]
     },
     "execution_count": 3,
     "metadata": {},
     "output_type": "execute_result"
    }
   ],
   "source": [
    "from scipy.stats import ttest_ind\n",
    "firstmonths = []\n",
    "lastmonths = []\n",
    "for month in bymonth:\n",
    "    if month <= 10:\n",
    "        firstmonths += bymonth[month]\n",
    "    else:\n",
    "        lastmonths += bymonth[month]\n",
    "ttest_sp = ttest_ind(firstmonths, lastmonths)\n",
    "ttest_sp"
   ]
  },
  {
   "cell_type": "markdown",
   "metadata": {},
   "source": [
    "# Interpretation der Ergebnisse"
   ]
  },
  {
   "cell_type": "markdown",
   "metadata": {},
   "source": [
    "Da\n",
    "\n",
    "\\begin{equation*}\n",
    "p= 8.366555999265518 \\cdot 10^{-16}< 10^{-15},\n",
    "\\end{equation*}\n",
    "\n",
    "wird die Nullhypothese bis zu einem Signifikanzniveau von mindestens\n",
    "\n",
    "\\begin{equation*}\n",
    "\\alpha > 10^{-15}\n",
    "\\end{equation*}\n",
    "\n",
    "verworfen und somit sind die Mittelwerte der zwei Stichproben aus den Monaten November und Dezember und der restlichen Monate signifikant verschieden. Das bedeutet, dass in den Monaten November und Dezember entweder mehr oder weniger Suchinteresse als in den restlichen Monaten des Jahres vorliegt. Ausgehend von unseren Visualisierungen können wir zusätzlich darauf schließen, dass es in den Monaten November und Dezember ein größeres Suchinteresse als im restlichen Jahr gibt und somit unsere Fragestellung bestätigt werden kann."
   ]
  }
 ],
 "metadata": {
  "anaconda-cloud": {},
  "kernelspec": {
   "display_name": "Python 3",
   "language": "python",
   "name": "python3"
  },
  "language_info": {
   "codemirror_mode": {
    "name": "ipython",
    "version": 3
   },
   "file_extension": ".py",
   "mimetype": "text/x-python",
   "name": "python",
   "nbconvert_exporter": "python",
   "pygments_lexer": "ipython3",
   "version": "3.7.6"
  },
  "widgets": {
   "application/vnd.jupyter.widget-state+json": {
    "state": {},
    "version_major": 2,
    "version_minor": 0
   }
  }
 },
 "nbformat": 4,
 "nbformat_minor": 1
}
