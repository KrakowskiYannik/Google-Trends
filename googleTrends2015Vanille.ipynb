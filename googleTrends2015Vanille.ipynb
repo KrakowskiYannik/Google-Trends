{
 "cells": [
  {
   "cell_type": "markdown",
   "metadata": {},
   "source": [
    "# Aufgabe DIS09a/b Statistik-Übungen\n",
    "## `Yannik`, `Krakowski`, `11126298 `\n",
    "\n",
    " \n",
    "## Kurze Beschreibung des Datensets (Hintergrund, Quelle, Datensetgröße, etc.)\n",
    "\n",
    "\n",
    "### Fragestellung: Ist in den zwei Monaten vor Weihnachten das Suchinteresse in Prozent nach Vanille Kipferl in Deutschland im vergleich zu den restlichen Monaten anders bzw. größer?\n",
    "### Nullhypothese: Die zwei Stichproben haben identische Erwartungswerte."
   ]
  },
  {
   "cell_type": "code",
   "execution_count": 1,
   "metadata": {},
   "outputs": [],
   "source": [
    "import pandas as pd\n",
    "import seaborn as sns\n",
    "csv1 = pd.read_csv('/Users/Student/multiTimeline_2015_deutschland.csv',skiprows=3,names = ['Date','Search interest'])  \n",
    "csv2 = pd.read_csv('/Users/Student/multiTimeline_2016_deutschland.csv',skiprows=3,names = ['Date','Search interest'])\n",
    "csv3 = pd.read_csv('/Users/Student/multiTimeline_2016_deutschland.csv',skiprows=3,nrows = 43,names = ['Search interest'])\n",
    "csv4 = pd.read_csv('/Users/Student/multiTimeline_2016_deutschland.csv',skiprows=46,names = ['Search interest'])"
   ]
  },
  {
   "cell_type": "code",
   "execution_count": 2,
   "metadata": {
    "scrolled": true
   },
   "outputs": [
    {
     "data": {
      "text/plain": [
       "Text(0, 0.5, '*¹Suchinteresse in %')"
      ]
     },
     "execution_count": 2,
     "metadata": {},
     "output_type": "execute_result"
    },
    {
     "data": {
      "image/png": "[encoded data removed]",
      "text/plain": [
       "<Figure size 432x288 with 1 Axes>"
      ]
     },
     "metadata": {
      "needs_background": "light"
     },
     "output_type": "display_data"
    }
   ],
   "source": [
    "ax1 = sns.barplot(x=\"Date\", y=\"Search interest\", data=csv1)\n",
    "ax1.set_xticklabels(ax1.get_xticklabels(5), rotation=0)\n",
    "ax1.axes.set_title(\"Google Suchinteresse Deutschland: Vanillekipferl 2015\",fontsize=15)\n",
    "ax1.set_xlabel(\"Januar  -  März  |  April  -  Juni  |  Juli  -  September  |  Oktober  -  Dezember\",fontsize=9)\n",
    "ax1.set_ylabel(\"*¹Suchinteresse in %\",fontsize=11)"
   ]
  },
  {
   "cell_type": "markdown",
   "metadata": {},
   "source": [
    "*¹ "
   ]
  },
  {
   "cell_type": "code",
   "execution_count": 3,
   "metadata": {},
   "outputs": [],
   "source": [
    "#plot = sns.distplot(y=\"Search interest\", data=csv1)"
   ]
  },
  {
   "cell_type": "markdown",
   "metadata": {},
   "source": [
    "Die Werte geben das Suchinteresse relativ zum höchsten Punkt im Diagramm für die ausgewählte Region im festgelegten Zeitraum von Januar 2015 - Dezember 2015 an. Der Wert 100 steht für die höchste Beliebtheit dieses Suchbegriffs. Der Wert 50 bedeutet, dass der Begriff halb so beliebt ist und der Wert 0 bedeutet, dass für diesen Begriff nicht genügend Daten vorlagen."
   ]
  },
  {
   "cell_type": "code",
   "execution_count": 6,
   "metadata": {},
   "outputs": [
    {
     "ename": "TypeError",
     "evalue": "distplot() got an unexpected keyword argument 'x'",
     "output_type": "error",
     "traceback": [
      "\u001b[1;31m---------------------------------------------------------------------------\u001b[0m",
      "\u001b[1;31mTypeError\u001b[0m                                 Traceback (most recent call last)",
      "\u001b[1;32m<ipython-input-6-518d0838febc>\u001b[0m in \u001b[0;36m<module>\u001b[1;34m\u001b[0m\n\u001b[1;32m----> 1\u001b[1;33m \u001b[0max2\u001b[0m \u001b[1;33m=\u001b[0m \u001b[0msns\u001b[0m\u001b[1;33m.\u001b[0m\u001b[0mdistplot\u001b[0m\u001b[1;33m(\u001b[0m\u001b[0mx\u001b[0m\u001b[1;33m=\u001b[0m\u001b[1;34m\"Date\"\u001b[0m\u001b[1;33m,\u001b[0m \u001b[0my\u001b[0m\u001b[1;33m=\u001b[0m\u001b[1;34m\"Search interest\"\u001b[0m\u001b[1;33m,\u001b[0m \u001b[0mdata\u001b[0m\u001b[1;33m=\u001b[0m\u001b[0mcsv2\u001b[0m\u001b[1;33m)\u001b[0m\u001b[1;33m\u001b[0m\u001b[1;33m\u001b[0m\u001b[0m\n\u001b[0m\u001b[0;32m      2\u001b[0m \u001b[0max2\u001b[0m\u001b[1;33m.\u001b[0m\u001b[0mset_xticklabels\u001b[0m\u001b[1;33m(\u001b[0m\u001b[0max2\u001b[0m\u001b[1;33m.\u001b[0m\u001b[0mget_xticklabels\u001b[0m\u001b[1;33m(\u001b[0m\u001b[1;36m5\u001b[0m\u001b[1;33m)\u001b[0m\u001b[1;33m,\u001b[0m \u001b[0mrotation\u001b[0m\u001b[1;33m=\u001b[0m\u001b[1;36m0\u001b[0m\u001b[1;33m)\u001b[0m\u001b[1;33m\u001b[0m\u001b[1;33m\u001b[0m\u001b[0m\n\u001b[0;32m      3\u001b[0m \u001b[0max2\u001b[0m\u001b[1;33m.\u001b[0m\u001b[0maxes\u001b[0m\u001b[1;33m.\u001b[0m\u001b[0mset_title\u001b[0m\u001b[1;33m(\u001b[0m\u001b[1;34m\"Google Suchinteresse Deutschland: Vanillekipferl 2016\"\u001b[0m\u001b[1;33m,\u001b[0m\u001b[0mfontsize\u001b[0m\u001b[1;33m=\u001b[0m\u001b[1;36m15\u001b[0m\u001b[1;33m)\u001b[0m\u001b[1;33m\u001b[0m\u001b[1;33m\u001b[0m\u001b[0m\n\u001b[0;32m      4\u001b[0m \u001b[0max2\u001b[0m\u001b[1;33m.\u001b[0m\u001b[0mset_xlabel\u001b[0m\u001b[1;33m(\u001b[0m\u001b[1;34m\"Januar  -  März  |  April  -  Juni  |  Juli  -  September  |  Oktober  -  Dezember\"\u001b[0m\u001b[1;33m,\u001b[0m\u001b[0mfontsize\u001b[0m\u001b[1;33m=\u001b[0m\u001b[1;36m9\u001b[0m\u001b[1;33m)\u001b[0m\u001b[1;33m\u001b[0m\u001b[1;33m\u001b[0m\u001b[0m\n\u001b[0;32m      5\u001b[0m \u001b[0max2\u001b[0m\u001b[1;33m.\u001b[0m\u001b[0mset_ylabel\u001b[0m\u001b[1;33m(\u001b[0m\u001b[1;34m\"*¹Suchinteresse in %\"\u001b[0m\u001b[1;33m,\u001b[0m\u001b[0mfontsize\u001b[0m\u001b[1;33m=\u001b[0m\u001b[1;36m11\u001b[0m\u001b[1;33m)\u001b[0m\u001b[1;33m\u001b[0m\u001b[1;33m\u001b[0m\u001b[0m\n",
      "\u001b[1;31mTypeError\u001b[0m: distplot() got an unexpected keyword argument 'x'"
     ]
    }
   ],
   "source": [
    "ax2 = sns.distplot(x=\"Date\", y=\"Search interest\", data=csv2)\n",
    "ax2.set_xticklabels(ax2.get_xticklabels(5), rotation=0)\n",
    "ax2.axes.set_title(\"Google Suchinteresse Deutschland: Vanillekipferl 2016\",fontsize=15)\n",
    "ax2.set_xlabel(\"Januar  -  März  |  April  -  Juni  |  Juli  -  September  |  Oktober  -  Dezember\",fontsize=9)\n",
    "ax2.set_ylabel(\"*¹Suchinteresse in %\",fontsize=11)"
   ]
  },
  {
   "cell_type": "code",
   "execution_count": 5,
   "metadata": {},
   "outputs": [
    {
     "data": {
      "text/plain": [
       "Ttest_indResult(statistic=array([-10.01019428]), pvalue=array([1.55352973e-13]))"
      ]
     },
     "execution_count": 5,
     "metadata": {},
     "output_type": "execute_result"
    }
   ],
   "source": [
    "from scipy.stats import ttest_ind\n",
    "ttest_sp = ttest_ind(csv3.values, csv4.values)\n",
    "ttest_sp"
   ]
  },
  {
   "cell_type": "markdown",
   "metadata": {},
   "source": [
    "*¹ \n",
    "Die Werte geben das Suchinteresse relativ zum höchsten Punkt im Diagramm für die ausgewählte Region im festgelegten Zeitraum von Januar 2015 - Dezember 2015 an. Der Wert 100 steht für die höchste Beliebtheit dieses Suchbegriffs. Der Wert 50 bedeutet, dass der Begriff halb so beliebt ist und der Wert 0 bedeutet, dass für diesen Begriff nicht genügend Daten vorlagen."
   ]
  },
  {
   "cell_type": "markdown",
   "metadata": {},
   "source": [
    "# Kurzinterpretation"
   ]
  },
  {
   "cell_type": "markdown",
   "metadata": {},
   "source": [
    "Da der p-Wert der Teststatistik kleiner als $10^{-10}$ ist, wird die Nullhypothese bis zu einem Signifikanzniveau von mindestens $10^{-10}$ verworfen und somit sind die Mittelwerte der zwei Stichproben aus den zwei  Monaten vor Weihnachten und der restlichen Monate signifikant verschieden. Das bedeutet, dass zwei Monate vor Weihnachten entweder mehr oder weniger Suchinteresse als in den restlichen Monaten des Jahres vorliegt. Ausgehend von unseren Visualisierungen können wir zusätzlich darauf schließen, dass es in den zwei Monaten vor Weihnachten ein größeres Suchinteresse als im restlichen Jahr gibt und somit unsere Fragestellung bestätigt werden kann."
   ]
  }
 ],
 "metadata": {
  "anaconda-cloud": {},
  "kernelspec": {
   "display_name": "Python 3",
   "language": "python",
   "name": "python3"
  },
  "language_info": {
   "codemirror_mode": {
    "name": "ipython",
    "version": 3
   },
   "file_extension": ".py",
   "mimetype": "text/x-python",
   "name": "python",
   "nbconvert_exporter": "python",
   "pygments_lexer": "ipython3",
   "version": "3.7.6"
  },
  "widgets": {
   "application/vnd.jupyter.widget-state+json": {
    "state": {},
    "version_major": 2,
    "version_minor": 0
   }
  }
 },
 "nbformat": 4,
 "nbformat_minor": 1
}
